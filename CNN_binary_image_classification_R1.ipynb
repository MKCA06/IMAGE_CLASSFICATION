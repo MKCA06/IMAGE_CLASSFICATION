{
  "cells": [
    {
      "cell_type": "markdown",
      "metadata": {
        "id": "view-in-github",
        "colab_type": "text"
      },
      "source": [
        "<a href=\"https://colab.research.google.com/github/MKCA06/IMAGE_CLASSFICATION/blob/main/CNN_binary_image_classification_R1.ipynb\" target=\"_parent\"><img src=\"https://colab.research.google.com/assets/colab-badge.svg\" alt=\"Open In Colab\"/></a>"
      ]
    },
    {
      "cell_type": "markdown",
      "id": "dbeca329",
      "metadata": {
        "id": "dbeca329"
      },
      "source": [
        "Binary classification and SVM using Tensorflow involves building a Convolutional Neural Network (CNN) and Support Vector Machine (SVM) models for classification tasks.\n",
        "\n",
        "For the CNN model, the code involves the following steps:\n",
        "\n",
        "1-Importing necessary libraries and packages.\n",
        "2-Preprocessing the data using the ImageDataGenerator class from keras, which rescales, applies data augmentation techniques such as shear, zoom, and horizontal flip, and creates a data generator.\n",
        "3-Building the CNN model using Sequential API and adding convolutional, pooling, and dense layers, followed by compiling the model.\n",
        "4-Fitting the model to the training data and evaluating it on the test data.\n",
        "For the SVM model, the code involves the following steps:\n",
        "\n",
        "Importing necessary libraries and packages.\n",
        "1-Preprocessing the data by loading the dataset and splitting it into training and testing sets.\n",
        "2-Defining the SVM model with the kernel, regularization parameter, and other hyperparameters.\n",
        "3-Fitting the model to the training data and evaluating it on the test data.\n",
        "4-Both the CNN and SVM models are evaluated on their respective test datasets, and their accuracy and other metrics are printed."
      ]
    },
    {
      "cell_type": "code",
      "execution_count": null,
      "id": "393f8bcd",
      "metadata": {
        "id": "393f8bcd",
        "outputId": "6854d636-5183-46ef-9b18-c419401c0de3"
      },
      "outputs": [
        {
          "ename": "ModuleNotFoundError",
          "evalue": "No module named 'tensorflow'",
          "output_type": "error",
          "traceback": [
            "\u001b[1;31m---------------------------------------------------------------------------\u001b[0m",
            "\u001b[1;31mModuleNotFoundError\u001b[0m                       Traceback (most recent call last)",
            "Cell \u001b[1;32mIn[1], line 2\u001b[0m\n\u001b[0;32m      1\u001b[0m \u001b[38;5;66;03m# Import necessary modules from TensorFlow version 1\u001b[39;00m\n\u001b[1;32m----> 2\u001b[0m \u001b[38;5;28;01mfrom\u001b[39;00m \u001b[38;5;21;01mtensorflow\u001b[39;00m\u001b[38;5;21;01m.\u001b[39;00m\u001b[38;5;21;01mcompat\u001b[39;00m\u001b[38;5;21;01m.\u001b[39;00m\u001b[38;5;21;01mv1\u001b[39;00m \u001b[38;5;28;01mimport\u001b[39;00m ConfigProto\n\u001b[0;32m      3\u001b[0m \u001b[38;5;28;01mfrom\u001b[39;00m \u001b[38;5;21;01mtensorflow\u001b[39;00m\u001b[38;5;21;01m.\u001b[39;00m\u001b[38;5;21;01mcompat\u001b[39;00m\u001b[38;5;21;01m.\u001b[39;00m\u001b[38;5;21;01mv1\u001b[39;00m \u001b[38;5;28;01mimport\u001b[39;00m InteractiveSession\n\u001b[0;32m      5\u001b[0m \u001b[38;5;66;03m# Set up GPU growth for TensorFlow\u001b[39;00m\n",
            "\u001b[1;31mModuleNotFoundError\u001b[0m: No module named 'tensorflow'"
          ]
        }
      ],
      "source": [
        "# Import necessary modules from TensorFlow version 1\n",
        "from tensorflow.compat.v1 import ConfigProto\n",
        "from tensorflow.compat.v1 import InteractiveSession\n",
        "\n",
        "# Set up GPU growth for TensorFlow\n",
        "config = ConfigProto()\n",
        "\n",
        "# Limit the memory usage for GPU processing to 50%\n",
        "config.gpu_options.per_process_gpu_memory_fraction = 0.5\n",
        "\n",
        "# Allow for allocation of only the necessary memory when required\n",
        "config.gpu_options.allow_growth = True\n",
        "\n",
        "# Create a TensorFlow session using the InteractiveSession object and the configured options\n",
        "session = InteractiveSession(config=config)"
      ]
    },
    {
      "cell_type": "markdown",
      "id": "f188de15",
      "metadata": {
        "id": "f188de15"
      },
      "source": [
        "The ImageDataGenerator module is used for data preprocessing and augmentation of image data during training of deep learning models. It provides a way to generate batches of image data with real-time data augmentation, which can improve the generalization and performance of the model. The module offers a variety of image augmentation techniques such as rescaling, rotation, zooming, and flipping, which can be applied to the training data to increase its diversity and variability, and prevent overfitting."
      ]
    },
    {
      "cell_type": "code",
      "execution_count": null,
      "id": "8a1e25d6",
      "metadata": {
        "id": "8a1e25d6"
      },
      "outputs": [],
      "source": [
        "# Convolutional Neural Network\n",
        "# Importing the libraries\n",
        "import tensorflow as tf\n",
        "from tensorflow.keras.preprocessing.image import ImageDataGenerator"
      ]
    },
    {
      "cell_type": "code",
      "execution_count": null,
      "id": "26f55233",
      "metadata": {
        "id": "26f55233",
        "outputId": "54230544-d4d1-4063-f6d8-2dd5df551917"
      },
      "outputs": [
        {
          "data": {
            "text/plain": [
              "'2.10.1'"
            ]
          },
          "execution_count": 3,
          "metadata": {},
          "output_type": "execute_result"
        }
      ],
      "source": [
        "tf.__version__"
      ]
    },
    {
      "cell_type": "code",
      "execution_count": null,
      "id": "6861f562",
      "metadata": {
        "id": "6861f562"
      },
      "outputs": [],
      "source": [
        "# Part 1 - Data Preprocessing\n",
        "\n",
        "# Preprocessing the Training set\n",
        "# Import the necessary modules\n",
        "from keras.preprocessing.image import ImageDataGenerator\n",
        "\n",
        "# Define the ImageDataGenerator object with the desired parameters\n",
        "train_datagen = ImageDataGenerator(\n",
        "    rescale = 1./255,              # Rescale the pixel values to be between 0 and 1\n",
        "    shear_range = 0.2,            # Apply random shear transformations\n",
        "    zoom_range = 0.2,             # Apply random zoom transformations\n",
        "    horizontal_flip = True        # Randomly flip images horizontally\n",
        ")"
      ]
    },
    {
      "cell_type": "code",
      "execution_count": null,
      "id": "6a361bdf",
      "metadata": {
        "id": "6a361bdf",
        "outputId": "279b4038-b452-4a25-a61d-898aa4ad0718"
      },
      "outputs": [
        {
          "name": "stdout",
          "output_type": "stream",
          "text": [
            "Found 508 images belonging to 2 classes.\n"
          ]
        }
      ],
      "source": [
        "# Preprocessing the Training set\n",
        "# Define the training set directory and specify the image dimensions and batch size\n",
        "training_set = train_datagen.flow_from_directory(\n",
        "    'D:/Accelerators/train',  # Directory containing the training images\n",
        "    target_size = (64, 64),      # Resize the images to 64x64 pixels\n",
        "    batch_size = 32,             # Number of images in each batch\n",
        "    class_mode = 'binary'        # Type of problem: binary (two classes) or categorical (more than two classes)\n",
        ")"
      ]
    },
    {
      "cell_type": "code",
      "execution_count": null,
      "id": "105748f0",
      "metadata": {
        "id": "105748f0",
        "outputId": "fdeeca9b-2445-438a-d7d6-185271554b43"
      },
      "outputs": [
        {
          "name": "stdout",
          "output_type": "stream",
          "text": [
            "Found 27 images belonging to 2 classes.\n"
          ]
        }
      ],
      "source": [
        "# Preprocessing the Test set\n",
        "# Define the ImageDataGenerator object with the desired parameters for the test set\n",
        "test_datagen = ImageDataGenerator(\n",
        "    rescale = 1./255              # Rescale the pixel values to be between 0 and 1\n",
        ")\n",
        "\n",
        "# Define the test set directory and specify the image dimensions and batch size\n",
        "test_set = test_datagen.flow_from_directory(\n",
        "    'D:/Accelerators/test',  # Directory containing the test images\n",
        "    target_size = (64, 64),      # Resize the images to 64x64 pixels\n",
        "    batch_size = 32,             # Number of images in each batch\n",
        "    class_mode = 'binary'        # Type of problem: binary (two classes) or categorical (more than two classes)\n",
        ")"
      ]
    },
    {
      "cell_type": "code",
      "execution_count": null,
      "id": "b0f4c6a9",
      "metadata": {
        "id": "b0f4c6a9"
      },
      "outputs": [],
      "source": [
        "# Import the necessary layers from the Keras API of TensorFlow\n",
        "from tensorflow.keras.layers import Conv2D     # 2D convolutional layer\n",
        "from tensorflow.keras.layers import Dense      # Fully connected layer"
      ]
    },
    {
      "cell_type": "markdown",
      "id": "a117eaa2",
      "metadata": {
        "id": "a117eaa2"
      },
      "source": [
        "we import the L2 regularization function from the Keras API of TensorFlow. Regularization is a technique used to prevent overfitting in a neural network. Overfitting occurs when the network learns to identify specific features of the training data that are not relevant to the problem being solved, and these irrelevant features can negatively affect the accuracy of the network's predictions on new data.\n",
        "\n",
        "L2 regularization is a common form of regularization that adds a penalty term to the network's loss function, which encourages the weights of the network to be small. This helps prevent overfitting by reducing the complexity of the network and preventing it from memorizing the training data. The l2 function in Keras allows us to easily implement L2 regularization in our neural network models."
      ]
    },
    {
      "cell_type": "code",
      "execution_count": null,
      "id": "b807ec76",
      "metadata": {
        "id": "b807ec76"
      },
      "outputs": [],
      "source": [
        "# Import the L2 regularization function from the Keras API of TensorFlow\n",
        "from tensorflow.keras.regularizers import l2"
      ]
    },
    {
      "cell_type": "markdown",
      "id": "4c476f77",
      "metadata": {
        "id": "4c476f77"
      },
      "source": [
        "we build a convolutional neural network (CNN) using the Keras API of TensorFlow to classify image data. The CNN consists of multiple layers, each performing a specific function. Here's a summary of what each layer does:\n",
        "\n",
        "The first layer is a 2D convolutional layer with 32 filters, a kernel size of 3x3, and ReLU activation. It takes an input shape of 64x64x3 (where 3 is the number of color channels - RGB).\n",
        "The second layer is a max pooling layer with a pool size of 2x2 and strides of 2x2. It downsamples the output from the previous layer by taking the maximum value within each 2x2 grid.\n",
        "The third and fourth layers are another 2D convolutional layer and max pooling layer, respectively. They have the same specifications as the first and second layers.\n",
        "The fifth layer is a flattening layer that converts the output from the previous layer to a 1D array.\n",
        "The sixth layer is a fully connected layer with 128 units and ReLU activation.\n",
        "The seventh and final layer is an output layer with a single unit, a linear activation function, and L2 regularization with a coefficient of 0.01. This output layer is used for binary classification tasks, where the output is a single probability value between 0 and 1 indicating the likelihood of the input image belonging to one of the two classes."
      ]
    },
    {
      "cell_type": "code",
      "execution_count": null,
      "id": "9f0ee937",
      "metadata": {
        "id": "9f0ee937"
      },
      "outputs": [],
      "source": [
        "# Part 2 - Building the CNN\n",
        "\n",
        "# Initialize a Sequential model for the CNN\n",
        "cnn = tf.keras.models.Sequential()\n",
        "\n",
        "# Step 1 - Convolutional Layer\n",
        "# Add a 2D convolutional layer with 32 filters, a kernel size of 3x3, and ReLU activation\n",
        "cnn.add(tf.keras.layers.Conv2D(filters=32, padding=\"same\", kernel_size=3, activation='relu', strides=2, input_shape=[64, 64, 3]))\n",
        "\n",
        "# Step 2 - Pooling Layer\n",
        "# Add a max pooling layer with pool size of 2x2 and strides of 2x2\n",
        "cnn.add(tf.keras.layers.MaxPool2D(pool_size=2, strides=2))\n",
        "\n",
        "# Adding a Second Convolutional Layer\n",
        "# Add another 2D convolutional layer with 32 filters, a kernel size of 3x3, and ReLU activation\n",
        "# Add another max pooling layer with pool size of 2x2 and strides of 2x2\n",
        "cnn.add(tf.keras.layers.Conv2D(filters=32, padding='same', kernel_size=3, activation='relu'))\n",
        "cnn.add(tf.keras.layers.MaxPool2D(pool_size=2, strides=2))\n",
        "\n",
        "# Step 3 - Flattening Layer\n",
        "# Flatten the output from the previous layer to a 1D array\n",
        "cnn.add(tf.keras.layers.Flatten())\n",
        "\n",
        "# Step 4 - Fully Connected Layer\n",
        "# Add a fully connected layer with 128 units and ReLU activation\n",
        "cnn.add(tf.keras.layers.Dense(units=128, activation='relu'))\n",
        "\n",
        "# Step 5 - Output Layer\n",
        "# Add an output layer with a single unit, linear activation function, and L2 regularization with a coefficient of 0.01\n",
        "cnn.add(Dense(1, kernel_regularizer=tf.keras.regularizers.l2(0.01), activation='linear'))\n"
      ]
    },
    {
      "cell_type": "code",
      "execution_count": null,
      "id": "75e9fa05",
      "metadata": {
        "id": "75e9fa05"
      },
      "outputs": [],
      "source": [
        "## for mulitclassification\n",
        "#cnn.add(Dense(4, kernel_regularizer=tf.keras.regularizers.l2(0.01),activation='softmax'))\n",
        "#cnn.compile(optimizer = 'adam', loss = 'squared_hinge', metrics = ['accuracy'])"
      ]
    },
    {
      "cell_type": "code",
      "execution_count": null,
      "id": "4fafe9ce",
      "metadata": {
        "id": "4fafe9ce",
        "outputId": "5b0248a7-b450-46b6-f5a7-5090c0f94f32"
      },
      "outputs": [
        {
          "name": "stdout",
          "output_type": "stream",
          "text": [
            "Model: \"sequential\"\n",
            "_________________________________________________________________\n",
            " Layer (type)                Output Shape              Param #   \n",
            "=================================================================\n",
            " conv2d (Conv2D)             (None, 32, 32, 32)        896       \n",
            "                                                                 \n",
            " max_pooling2d (MaxPooling2D  (None, 16, 16, 32)       0         \n",
            " )                                                               \n",
            "                                                                 \n",
            " conv2d_1 (Conv2D)           (None, 16, 16, 32)        9248      \n",
            "                                                                 \n",
            " max_pooling2d_1 (MaxPooling  (None, 8, 8, 32)         0         \n",
            " 2D)                                                             \n",
            "                                                                 \n",
            " flatten (Flatten)           (None, 2048)              0         \n",
            "                                                                 \n",
            " dense (Dense)               (None, 128)               262272    \n",
            "                                                                 \n",
            " dense_1 (Dense)             (None, 1)                 129       \n",
            "                                                                 \n",
            "=================================================================\n",
            "Total params: 272,545\n",
            "Trainable params: 272,545\n",
            "Non-trainable params: 0\n",
            "_________________________________________________________________\n"
          ]
        }
      ],
      "source": [
        "# Displaying the summary of the CNN model\n",
        "#The summary includes details such as the layer type, output shape, and number of parameters. This information can be used to analyze the complexity of the model and optimize its performance.\n",
        "cnn.summary()"
      ]
    },
    {
      "cell_type": "code",
      "execution_count": null,
      "id": "e3655cef",
      "metadata": {
        "id": "e3655cef",
        "outputId": "c33f9e20-4d2a-4207-b4b2-e9f26d08fac3"
      },
      "outputs": [
        {
          "name": "stdout",
          "output_type": "stream",
          "text": [
            "Epoch 1/15\n",
            "16/16 [==============================] - 8s 444ms/step - loss: 0.8812 - accuracy: 0.5768 - val_loss: 0.5418 - val_accuracy: 0.8148\n",
            "Epoch 2/15\n",
            "16/16 [==============================] - 6s 354ms/step - loss: 0.7069 - accuracy: 0.7008 - val_loss: 0.6258 - val_accuracy: 0.6296\n",
            "Epoch 3/15\n",
            "16/16 [==============================] - 6s 348ms/step - loss: 0.5525 - accuracy: 0.7677 - val_loss: 0.5975 - val_accuracy: 0.6667\n",
            "Epoch 4/15\n",
            "16/16 [==============================] - 6s 351ms/step - loss: 0.5067 - accuracy: 0.7854 - val_loss: 0.6752 - val_accuracy: 0.6667\n",
            "Epoch 5/15\n",
            "16/16 [==============================] - 6s 355ms/step - loss: 0.4357 - accuracy: 0.8169 - val_loss: 0.4220 - val_accuracy: 0.8148\n",
            "Epoch 6/15\n",
            "16/16 [==============================] - 6s 348ms/step - loss: 0.4494 - accuracy: 0.8051 - val_loss: 0.4446 - val_accuracy: 0.8148\n",
            "Epoch 7/15\n",
            "16/16 [==============================] - 6s 345ms/step - loss: 0.4288 - accuracy: 0.8346 - val_loss: 0.7374 - val_accuracy: 0.5926\n",
            "Epoch 8/15\n",
            "16/16 [==============================] - 6s 369ms/step - loss: 0.3847 - accuracy: 0.8406 - val_loss: 0.4175 - val_accuracy: 0.8519\n",
            "Epoch 9/15\n",
            "16/16 [==============================] - 6s 371ms/step - loss: 0.3631 - accuracy: 0.8484 - val_loss: 0.4995 - val_accuracy: 0.8148\n",
            "Epoch 10/15\n",
            "16/16 [==============================] - 6s 382ms/step - loss: 0.3529 - accuracy: 0.8504 - val_loss: 0.3915 - val_accuracy: 0.8519\n",
            "Epoch 11/15\n",
            "16/16 [==============================] - 7s 441ms/step - loss: 0.3479 - accuracy: 0.8602 - val_loss: 0.3951 - val_accuracy: 0.8148\n",
            "Epoch 12/15\n",
            "16/16 [==============================] - 7s 448ms/step - loss: 0.3381 - accuracy: 0.8583 - val_loss: 0.4237 - val_accuracy: 0.8519\n",
            "Epoch 13/15\n",
            "16/16 [==============================] - 7s 444ms/step - loss: 0.3813 - accuracy: 0.8445 - val_loss: 0.5056 - val_accuracy: 0.7407\n",
            "Epoch 14/15\n",
            "16/16 [==============================] - 6s 358ms/step - loss: 0.3173 - accuracy: 0.8642 - val_loss: 0.4411 - val_accuracy: 0.8148\n",
            "Epoch 15/15\n",
            "16/16 [==============================] - 6s 359ms/step - loss: 0.3222 - accuracy: 0.8583 - val_loss: 0.3147 - val_accuracy: 0.8889\n"
          ]
        }
      ],
      "source": [
        "# Part 3 - Training the CNN\n",
        "\n",
        "# Compiling the CNN\n",
        "cnn.compile(optimizer = 'adam', loss = 'hinge', metrics = ['accuracy'])\n",
        "\n",
        "# Training the CNN on the Training set and evaluating it on the Test set\n",
        "r=cnn.fit(x = training_set, validation_data = test_set, epochs = 15)"
      ]
    },
    {
      "cell_type": "code",
      "execution_count": null,
      "id": "cd329aed",
      "metadata": {
        "id": "cd329aed",
        "outputId": "19503690-f1e9-449a-ce56-fdd889eb17fe"
      },
      "outputs": [
        {
          "data": {
            "image/png": "[encoded data removed]",
            "text/plain": [
              "<Figure size 640x480 with 1 Axes>"
            ]
          },
          "metadata": {},
          "output_type": "display_data"
        },
        {
          "data": {
            "image/png": "[encoded data removed]",
            "text/plain": [
              "<Figure size 640x480 with 1 Axes>"
            ]
          },
          "metadata": {},
          "output_type": "display_data"
        },
        {
          "data": {
            "text/plain": [
              "<Figure size 640x480 with 0 Axes>"
            ]
          },
          "metadata": {},
          "output_type": "display_data"
        }
      ],
      "source": [
        "# plot the loss\n",
        "import matplotlib.pyplot as plt\n",
        "plt.plot(r.history['loss'], label='train loss')\n",
        "plt.plot(r.history['val_loss'], label='val loss')\n",
        "plt.legend()\n",
        "plt.show()\n",
        "plt.savefig('LossVal_loss')\n",
        "\n",
        "# plot the accuracy\n",
        "plt.plot(r.history['accuracy'], label='train acc')\n",
        "plt.plot(r.history['val_accuracy'], label='val acc')\n",
        "plt.legend()\n",
        "plt.show()\n",
        "plt.savefig('AccVal_acc')"
      ]
    },
    {
      "cell_type": "code",
      "execution_count": null,
      "id": "670f72d0",
      "metadata": {
        "id": "670f72d0"
      },
      "outputs": [],
      "source": [
        "# save it as a h5 file\n",
        "from tensorflow.keras.models import load_model\n",
        "cnn.save('model_brittle_ductile.h5')"
      ]
    },
    {
      "cell_type": "code",
      "execution_count": null,
      "id": "d576b164",
      "metadata": {
        "id": "d576b164"
      },
      "outputs": [],
      "source": [
        "# load model\n",
        "from tensorflow.keras.models import load_model\n",
        "model = load_model('model_brittle_ductile.h5')"
      ]
    },
    {
      "cell_type": "code",
      "execution_count": null,
      "id": "405ad2fc",
      "metadata": {
        "id": "405ad2fc",
        "outputId": "037b6916-1215-45c6-8742-34a87bfb3215"
      },
      "outputs": [
        {
          "name": "stdout",
          "output_type": "stream",
          "text": [
            "Model: \"sequential\"\n",
            "_________________________________________________________________\n",
            " Layer (type)                Output Shape              Param #   \n",
            "=================================================================\n",
            " conv2d (Conv2D)             (None, 32, 32, 32)        896       \n",
            "                                                                 \n",
            " max_pooling2d (MaxPooling2D  (None, 16, 16, 32)       0         \n",
            " )                                                               \n",
            "                                                                 \n",
            " conv2d_1 (Conv2D)           (None, 16, 16, 32)        9248      \n",
            "                                                                 \n",
            " max_pooling2d_1 (MaxPooling  (None, 8, 8, 32)         0         \n",
            " 2D)                                                             \n",
            "                                                                 \n",
            " flatten (Flatten)           (None, 2048)              0         \n",
            "                                                                 \n",
            " dense (Dense)               (None, 128)               262272    \n",
            "                                                                 \n",
            " dense_1 (Dense)             (None, 1)                 129       \n",
            "                                                                 \n",
            "=================================================================\n",
            "Total params: 272,545\n",
            "Trainable params: 272,545\n",
            "Non-trainable params: 0\n",
            "_________________________________________________________________\n"
          ]
        }
      ],
      "source": [
        "model.summary()"
      ]
    },
    {
      "cell_type": "code",
      "execution_count": null,
      "id": "8a730b5b",
      "metadata": {
        "id": "8a730b5b",
        "outputId": "7ed803d4-6b35-4bbf-949f-c089cb438c7d"
      },
      "outputs": [
        {
          "name": "stdout",
          "output_type": "stream",
          "text": [
            "1/1 [==============================] - 0s 22ms/step\n"
          ]
        }
      ],
      "source": [
        "# Part 4 - Making a single prediction\n",
        "\n",
        "import numpy as np\n",
        "from tensorflow.keras.preprocessing import image\n",
        "test_image = image.load_img(\"D:/Accelerators/Ductile Overall till 27 feb/1-100 (2).jpg\", target_size = (64,64))\n",
        "test_image = image.img_to_array(test_image)\n",
        "test_image=test_image/255\n",
        "test_image = np.expand_dims(test_image, axis = 0)\n",
        "result = cnn.predict(test_image)"
      ]
    },
    {
      "cell_type": "code",
      "execution_count": null,
      "id": "e11aa022",
      "metadata": {
        "id": "e11aa022",
        "outputId": "d4fd3bd9-a6e9-416f-b78f-34058c589b4e"
      },
      "outputs": [
        {
          "data": {
            "text/plain": [
              "array([[-1.3230482]], dtype=float32)"
            ]
          },
          "execution_count": 23,
          "metadata": {},
          "output_type": "execute_result"
        }
      ],
      "source": [
        "result"
      ]
    },
    {
      "cell_type": "code",
      "execution_count": null,
      "id": "7004fe39",
      "metadata": {
        "id": "7004fe39",
        "outputId": "87a4699b-779e-4e7a-ee01-94f3ffe3f3aa"
      },
      "outputs": [
        {
          "name": "stdout",
          "output_type": "stream",
          "text": [
            "The image classified is brittle\n"
          ]
        }
      ],
      "source": [
        "if result[0]<0:\n",
        "    print(\"The image classified is brittle\")\n",
        "else:\n",
        "    print(\"The image classified is ductile\")"
      ]
    },
    {
      "cell_type": "code",
      "execution_count": null,
      "id": "fcf48687",
      "metadata": {
        "id": "fcf48687",
        "outputId": "b26af896-38c6-45aa-a582-baf1344add12"
      },
      "outputs": [
        {
          "name": "stdout",
          "output_type": "stream",
          "text": [
            "1/1 [==============================] - 0s 21ms/step\n"
          ]
        }
      ],
      "source": [
        "# Part 4 - Making a single prediction\n",
        "\n",
        "import numpy as np\n",
        "from tensorflow.keras.preprocessing import image\n",
        "test_image = image.load_img(\"C:/Users/272213/python work/Complete-Deep-Learning-master/PC_ABS.jpg\", target_size = (64,64))\n",
        "test_image = image.img_to_array(test_image)\n",
        "test_image=test_image/255\n",
        "test_image = np.expand_dims(test_image, axis = 0)\n",
        "result = cnn.predict(test_image)"
      ]
    },
    {
      "cell_type": "code",
      "execution_count": null,
      "id": "8704390c",
      "metadata": {
        "id": "8704390c",
        "outputId": "5a9c5025-09e2-476f-8d54-8201f033a775"
      },
      "outputs": [
        {
          "data": {
            "text/plain": [
              "array([[-4.2715425]], dtype=float32)"
            ]
          },
          "execution_count": 118,
          "metadata": {},
          "output_type": "execute_result"
        }
      ],
      "source": [
        "result"
      ]
    },
    {
      "cell_type": "code",
      "execution_count": null,
      "id": "76469c91",
      "metadata": {
        "id": "76469c91",
        "outputId": "dff8644c-eb38-418e-854b-d9f0fe9ac84c"
      },
      "outputs": [
        {
          "name": "stdout",
          "output_type": "stream",
          "text": [
            "The image classified is brittle\n"
          ]
        }
      ],
      "source": [
        "if result[0]<0:\n",
        "    print(\"The image classified is brittle\")\n",
        "else:\n",
        "    print(\"The image classified is ductile\")"
      ]
    },
    {
      "cell_type": "code",
      "execution_count": null,
      "id": "e55610de",
      "metadata": {
        "id": "e55610de",
        "outputId": "83b40055-0d2d-4d3d-b573-3e06f9c84158"
      },
      "outputs": [
        {
          "name": "stdout",
          "output_type": "stream",
          "text": [
            "1/1 [==============================] - 0s 23ms/step\n"
          ]
        }
      ],
      "source": [
        "# Part 4 - Making a single prediction\n",
        "\n",
        "import numpy as np\n",
        "from tensorflow.keras.preprocessing import image\n",
        "test_image = image.load_img(\"C:/Users/272213/python work/Complete-Deep-Learning-master/dc.jpg\", target_size = (64,64))\n",
        "test_image = image.img_to_array(test_image)\n",
        "test_image=test_image/255\n",
        "test_image = np.expand_dims(test_image, axis = 0)\n",
        "result = cnn.predict(test_image)"
      ]
    },
    {
      "cell_type": "code",
      "execution_count": null,
      "id": "9cc70bae",
      "metadata": {
        "id": "9cc70bae",
        "outputId": "27a31f15-de4b-4753-f156-c8ec1bae1212"
      },
      "outputs": [
        {
          "data": {
            "text/plain": [
              "array([[0.67538375]], dtype=float32)"
            ]
          },
          "execution_count": 121,
          "metadata": {},
          "output_type": "execute_result"
        }
      ],
      "source": [
        "result"
      ]
    },
    {
      "cell_type": "code",
      "execution_count": null,
      "id": "9d9c041f",
      "metadata": {
        "id": "9d9c041f",
        "outputId": "954e3a1d-f0bc-4491-a9e8-ffead1bac4cb"
      },
      "outputs": [
        {
          "name": "stdout",
          "output_type": "stream",
          "text": [
            "The image classified is ductile\n"
          ]
        }
      ],
      "source": [
        "if result[0]<0:\n",
        "    print(\"The image classified is brittle\")\n",
        "else:\n",
        "    print(\"The image classified is ductile\")"
      ]
    },
    {
      "cell_type": "code",
      "execution_count": null,
      "id": "8cca641d",
      "metadata": {
        "id": "8cca641d",
        "outputId": "226b5125-cccf-4529-a05b-6c52d16e9b78"
      },
      "outputs": [
        {
          "name": "stdout",
          "output_type": "stream",
          "text": [
            "1/1 [==============================] - 0s 22ms/step\n",
            "The image classified is brittle\n"
          ]
        }
      ],
      "source": [
        "# Part 4 - Making a single prediction\n",
        "\n",
        "import numpy as np\n",
        "from tensorflow.keras.preprocessing import image\n",
        "test_image = image.load_img(\"C:/Users/272213/python work/Complete-Deep-Learning-master/Picture1.jpg\", target_size = (64,64))\n",
        "test_image = image.img_to_array(test_image)\n",
        "test_image=test_image/255\n",
        "test_image = np.expand_dims(test_image, axis = 0)\n",
        "result = cnn.predict(test_image)\n",
        "\n",
        "if result[0]<0:\n",
        "    print(\"The image classified is brittle\")\n",
        "else:\n",
        "    print(\"The image classified is ductile\")"
      ]
    },
    {
      "cell_type": "code",
      "execution_count": null,
      "id": "dd1294b3",
      "metadata": {
        "id": "dd1294b3"
      },
      "outputs": [],
      "source": [
        "#Making a fucntion fit\n",
        "def fit(p):\n",
        "    test_image = image.load_img(p, target_size = (64,64))\n",
        "    test_image = image.img_to_array(test_image)\n",
        "    test_image=test_image/255\n",
        "    test_image = np.expand_dims(test_image, axis = 0)\n",
        "    result = cnn.predict(test_image)\n",
        "    if result[0]<0:\n",
        "        print(\"The image classified is brittle\")\n",
        "    else:\n",
        "        print(\"The image classified is ductile\")\n",
        "\n",
        "    return(result)"
      ]
    },
    {
      "cell_type": "code",
      "execution_count": null,
      "id": "404ae204",
      "metadata": {
        "id": "404ae204",
        "outputId": "8994ec71-ed2f-4648-9c50-be16f079352a"
      },
      "outputs": [
        {
          "name": "stdout",
          "output_type": "stream",
          "text": [
            "1/1 [==============================] - 0s 14ms/step\n",
            "The image classified is brittle\n"
          ]
        },
        {
          "data": {
            "text/plain": [
              "array([[-2.7342427]], dtype=float32)"
            ]
          },
          "execution_count": 129,
          "metadata": {},
          "output_type": "execute_result"
        }
      ],
      "source": [
        "fit(\"C:/Users/272213/python work/Complete-Deep-Learning-master/1.jpg\")"
      ]
    },
    {
      "cell_type": "code",
      "execution_count": null,
      "id": "146412f1",
      "metadata": {
        "id": "146412f1",
        "outputId": "485a2e49-0cd3-4825-b452-05e1590300b9"
      },
      "outputs": [
        {
          "name": "stdout",
          "output_type": "stream",
          "text": [
            "1/1 [==============================] - 0s 65ms/step\n",
            "The image classified is brittle\n"
          ]
        },
        {
          "data": {
            "text/plain": [
              "array([[-4.2715425]], dtype=float32)"
            ]
          },
          "execution_count": 132,
          "metadata": {},
          "output_type": "execute_result"
        }
      ],
      "source": [
        "fit(\"C:/Users/272213/python work/Complete-Deep-Learning-master/PC_ABS.jpg\")"
      ]
    },
    {
      "cell_type": "code",
      "execution_count": null,
      "id": "907944db",
      "metadata": {
        "id": "907944db",
        "outputId": "3ab2d3f6-8de1-44e5-a0fb-312448012722"
      },
      "outputs": [
        {
          "name": "stdout",
          "output_type": "stream",
          "text": [
            "1/1 [==============================] - 0s 74ms/step\n",
            "The image classified is ductile\n"
          ]
        },
        {
          "data": {
            "text/plain": [
              "array([[0.14398804]], dtype=float32)"
            ]
          },
          "execution_count": 133,
          "metadata": {},
          "output_type": "execute_result"
        }
      ],
      "source": [
        "fit(\"C:/Users/272213/python work/Complete-Deep-Learning-master/4.jpg\")"
      ]
    },
    {
      "cell_type": "code",
      "execution_count": null,
      "id": "9c499bf8",
      "metadata": {
        "id": "9c499bf8"
      },
      "outputs": [],
      "source": []
    },
    {
      "cell_type": "code",
      "execution_count": null,
      "id": "a04ba722",
      "metadata": {
        "id": "a04ba722",
        "outputId": "9d2b70c3-df54-42c0-c2ed-2c0a83c82986"
      },
      "outputs": [
        {
          "ename": "ModuleNotFoundError",
          "evalue": "No module named 'sklearn'",
          "output_type": "error",
          "traceback": [
            "\u001b[1;31m---------------------------------------------------------------------------\u001b[0m",
            "\u001b[1;31mModuleNotFoundError\u001b[0m                       Traceback (most recent call last)",
            "Cell \u001b[1;32mIn[1], line 3\u001b[0m\n\u001b[0;32m      1\u001b[0m \u001b[38;5;28;01mimport\u001b[39;00m \u001b[38;5;21;01mos\u001b[39;00m\n\u001b[0;32m      2\u001b[0m \u001b[38;5;28;01mimport\u001b[39;00m \u001b[38;5;21;01mnumpy\u001b[39;00m \u001b[38;5;28;01mas\u001b[39;00m \u001b[38;5;21;01mnp\u001b[39;00m\n\u001b[1;32m----> 3\u001b[0m \u001b[38;5;28;01mfrom\u001b[39;00m \u001b[38;5;21;01msklearn\u001b[39;00m\u001b[38;5;21;01m.\u001b[39;00m\u001b[38;5;21;01mmodel_selection\u001b[39;00m \u001b[38;5;28;01mimport\u001b[39;00m train_test_split\n\u001b[0;32m      4\u001b[0m \u001b[38;5;28;01mfrom\u001b[39;00m \u001b[38;5;21;01msklearn\u001b[39;00m\u001b[38;5;21;01m.\u001b[39;00m\u001b[38;5;21;01mmetrics\u001b[39;00m \u001b[38;5;28;01mimport\u001b[39;00m accuracy_score\n\u001b[0;32m      5\u001b[0m \u001b[38;5;28;01mfrom\u001b[39;00m \u001b[38;5;21;01mtensorflow\u001b[39;00m\u001b[38;5;21;01m.\u001b[39;00m\u001b[38;5;21;01mkeras\u001b[39;00m\u001b[38;5;21;01m.\u001b[39;00m\u001b[38;5;21;01mmodels\u001b[39;00m \u001b[38;5;28;01mimport\u001b[39;00m Sequential\n",
            "\u001b[1;31mModuleNotFoundError\u001b[0m: No module named 'sklearn'"
          ]
        }
      ],
      "source": [
        "import os\n",
        "import numpy as np\n",
        "from sklearn.model_selection import train_test_split\n",
        "from sklearn.metrics import accuracy_score\n",
        "from tensorflow.keras.models import Sequential\n",
        "from tensorflow.keras.layers import Dense\n",
        "\n",
        "# Define the paths to the labeled and unlabeled data folders\n",
        "labeled_data_folder = 'D:/Accelerators/Label/acc/Vehicle_5_classes_sample/mix/labeled/'\n",
        "unlabeled_data_folder = 'D:/Accelerators/Label/acc/Vehicle_5_classes_sample/mix/unlabeled/'\n",
        "\n",
        "# Define the function to extract labels from XML annotations\n",
        "import xml.etree.ElementTree as ET\n",
        "\n",
        "def extract_label_from_xml(xml_path):\n",
        "    tree = ET.parse(xml_path)\n",
        "    root = tree.getroot()\n",
        "    label = root.findtext('object/name')\n",
        "    return label\n",
        "\n",
        "# Define the function to load images\n",
        "from PIL import Image\n",
        "\n",
        "def load_image(image_path):\n",
        "    img = Image.open(image_path)\n",
        "    img = img.resize((224, 224))  # Resize the image to the desired size\n",
        "    img_array = np.array(img)\n",
        "    return img_array\n",
        "\n",
        "# Step 1: Load labeled data with annotations\n",
        "labeled_images = []\n",
        "labeled_labels = []\n",
        "\n",
        "# Read labeled data folder\n",
        "for filename in os.listdir(labeled_data_folder):\n",
        "    if filename.endswith('.xml'):\n",
        "        xml_path = os.path.join(labeled_data_folder,filename)\n",
        "        image_filename = filename[:-4] + '.jpg'\n",
        "        #image_path = os.path.join(labeled_data_folder, image_filename)\n",
        "\n",
        "        # Load image and append to the labeled data\n",
        "        #image = load_image(image_path)\n",
        "        labeled_images.append(image)\n",
        "\n",
        "        # Extract label from XML and append to the labeled labels\n",
        "        label = extract_label_from_xml(xml_path)\n",
        "        labeled_labels.append(label)\n",
        "\n",
        "labeled_images = np.array(labeled_images)\n",
        "labeled_labels = np.array(labeled_labels)\n",
        "\n",
        "# Step 2: Load unlabeled data\n",
        "unlabeled_images = []\n",
        "\n",
        "# Read unlabeled data folder\n",
        "for filename in os.listdir(unlabeled_data_folder):\n",
        "    if filename.endswith('.jpg'):\n",
        "        image_path = os.path.join(unlabeled_data_folder, filename)\n",
        "\n",
        "        # Load image and append to the unlabeled data\n",
        "        image = load_image(image_path)\n",
        "        unlabeled_images.append(image)\n",
        "\n",
        "unlabeled_images = np.array(unlabeled_images)\n",
        "\n",
        "# Step 3: Split the labeled and unlabeled data\n",
        "X_labeled, X_unlabeled, y_labeled, y_unlabeled = train_test_split(\n",
        "    labeled_images, labeled_labels, test_size=0.2, random_state=42\n",
        ")\n",
        "\n",
        "# Step 4: Train an initial model on the labeled data\n",
        "num_classes = len(np.unique(y_labeled))\n",
        "model = Sequential()\n",
        "model.add(Dense(64, activation='relu', input_shape=(224, 224, 3)))\n",
        "model.add(Dense(num_classes, activation='softmax'))\n",
        "model.compile(optimizer='adam', loss='categorical_crossentropy', metrics=['accuracy'])\n",
        "model.fit(X_labeled, y_labeled, epochs=10)\n",
        "\n",
        "# Step 5: Apply active learning iterations\n",
        "batch_size = 10  # Define the batch size for labeling\n",
        "\n",
        "while len(X_unlabeled) > 0:\n",
        "    # Step 5.1: Use the current model to predict labels for the unlabeled data\n",
        "    predictions = model.predict(X_unlabeled)\n",
        "\n",
        "    # Step 5.2: Compute uncertainties based on prediction probabilities (e.g., using entropy)\n",
        "    uncertainties = -np.sum(predictions * np.log2(predictions), axis=1)\n",
        "\n",
        "    # Step 5.3: Select samples with highest uncertainty for labeling\n",
        "    num_samples = min(len(X_unlabeled), batch_size)  # Define the batch size for labeling\n",
        "    selected_indices = np.argsort(uncertainties)[-num_samples:]\n",
        "    selected_samples = X_unlabeled[selected_indices]\n",
        "\n",
        "    # Step 5.4:Assign the selected samples to an oracle for labeling\n",
        "    labels = oracle_labeling(selected_samples)\n",
        "\n",
        "    # Step 5.5: Add the newly labeled samples to the labeled dataset\n",
        "    X_labeled = np.concatenate((X_labeled, selected_samples), axis=0)\n",
        "    y_labeled = np.concatenate((y_labeled, labels), axis=0)\n",
        "\n",
        "    # Step 5.6: Remove the newly labeled samples from the unlabeled dataset\n",
        "    X_unlabeled = np.delete(X_unlabeled, selected_indices, axis=0)\n",
        "\n",
        "    # Step 5.7: Retrain the model using the updated labeled dataset\n",
        "    model.fit(X_labeled, y_labeled, epochs=10)\n",
        "\n",
        "# Step 6: Evaluate the final model on a separate test set\n",
        "X_test = ...\n",
        "y_test = ...\n",
        "accuracy = accuracy_score(y_test, np.argmax(model.predict(X_test), axis=1))\n",
        "print(\"Final model accuracy:\", accuracy)"
      ]
    },
    {
      "cell_type": "code",
      "execution_count": null,
      "id": "97c03807",
      "metadata": {
        "id": "97c03807",
        "outputId": "ffd2dde7-9aad-476a-e422-8bbb71ad397b"
      },
      "outputs": [
        {
          "ename": "NameError",
          "evalue": "name 'extract_label_from_xml' is not defined",
          "output_type": "error",
          "traceback": [
            "\u001b[1;31m---------------------------------------------------------------------------\u001b[0m",
            "\u001b[1;31mNameError\u001b[0m                                 Traceback (most recent call last)",
            "\u001b[1;32m~\\AppData\\Local\\Temp\\ipykernel_29408\\3051363170.py\u001b[0m in \u001b[0;36m<cell line: 22>\u001b[1;34m()\u001b[0m\n\u001b[0;32m     24\u001b[0m         \u001b[1;31m# Extract image and label information from XML annotations\u001b[0m\u001b[1;33m\u001b[0m\u001b[1;33m\u001b[0m\u001b[0m\n\u001b[0;32m     25\u001b[0m         \u001b[0mimage_path\u001b[0m \u001b[1;33m=\u001b[0m \u001b[0mos\u001b[0m\u001b[1;33m.\u001b[0m\u001b[0mpath\u001b[0m\u001b[1;33m.\u001b[0m\u001b[0mjoin\u001b[0m\u001b[1;33m(\u001b[0m\u001b[0mlabeled_data_folder\u001b[0m\u001b[1;33m,\u001b[0m \u001b[0mfilename\u001b[0m\u001b[1;33m[\u001b[0m\u001b[1;33m:\u001b[0m\u001b[1;33m-\u001b[0m\u001b[1;36m4\u001b[0m\u001b[1;33m]\u001b[0m \u001b[1;33m+\u001b[0m \u001b[1;34m'.jpg'\u001b[0m\u001b[1;33m)\u001b[0m\u001b[1;33m\u001b[0m\u001b[1;33m\u001b[0m\u001b[0m\n\u001b[1;32m---> 26\u001b[1;33m         \u001b[0mlabel\u001b[0m \u001b[1;33m=\u001b[0m \u001b[0mextract_label_from_xml\u001b[0m\u001b[1;33m(\u001b[0m\u001b[0mos\u001b[0m\u001b[1;33m.\u001b[0m\u001b[0mpath\u001b[0m\u001b[1;33m.\u001b[0m\u001b[0mjoin\u001b[0m\u001b[1;33m(\u001b[0m\u001b[0mlabeled_data_folder\u001b[0m\u001b[1;33m,\u001b[0m \u001b[0mfilename\u001b[0m\u001b[1;33m)\u001b[0m\u001b[1;33m)\u001b[0m\u001b[1;33m\u001b[0m\u001b[1;33m\u001b[0m\u001b[0m\n\u001b[0m\u001b[0;32m     27\u001b[0m \u001b[1;33m\u001b[0m\u001b[0m\n\u001b[0;32m     28\u001b[0m         \u001b[1;31m# Load image and append to the labeled data\u001b[0m\u001b[1;33m\u001b[0m\u001b[1;33m\u001b[0m\u001b[0m\n",
            "\u001b[1;31mNameError\u001b[0m: name 'extract_label_from_xml' is not defined"
          ]
        }
      ],
      "source": [
        "import os\n",
        "import numpy as np\n",
        "from sklearn.model_selection import train_test_split\n",
        "from sklearn.metrics import accuracy_score\n",
        "from tensorflow.keras.models import Sequential\n",
        "from tensorflow.keras.layers import Dense\n",
        "\n",
        "\n",
        "\n",
        "# Step 1: Load labeled data with annotations\n",
        "labeled_images = []\n",
        "labeled_labels = []\n",
        "\n",
        "# Read labeled data folder\n",
        "for filename in os.listdir(labeled_data_folder):\n",
        "    if filename.endswith('.xml'):\n",
        "        # Extract image and label information from XML annotations\n",
        "        image_path = os.path.join(labeled_data_folder, filename[:-4] + '.jpg')\n",
        "        label = extract_label_from_xml(os.path.join(labeled_data_folder, filename))\n",
        "\n",
        "        # Load image and append to the labeled data\n",
        "        image = load_image(image_path)\n",
        "        labeled_images.append(image)\n",
        "        labeled_labels.append(label)\n",
        "\n",
        "labeled_images = np.array(labeled_images)\n",
        "labeled_labels = np.array(labeled_labels)\n",
        "\n",
        "# Step 2: Load unlabeled data\n",
        "unlabeled_images = []\n",
        "\n",
        "# Read unlabeled data folder\n",
        "for filename in os.listdir(unlabeled_data_folder):\n",
        "    if filename.endswith('.jpg'):\n",
        "        image_path = os.path.join(unlabeled_data_folder, filename)\n",
        "\n",
        "        # Load image and append to the unlabeled data\n",
        "        image = load_image(image_path)\n",
        "        unlabeled_images.append(image)\n",
        "\n",
        "unlabeled_images = np.array(unlabeled_images)\n",
        "\n",
        "# Step 3: Split the labeled and unlabeled data\n",
        "X_labeled, X_unlabeled, y_labeled, y_unlabeled = train_test_split(\n",
        "    labeled_images, labeled_labels, test_size=0.2, random_state=42\n",
        ")\n",
        "\n",
        "# Step 2: Train an initial model on the labeled data\n",
        "model = Sequential()\n",
        "model.add(Dense(64, activation='relu', input_shape=(input_shape,)))\n",
        "model.add(Dense(num_classes, activation='softmax'))\n",
        "model.compile(optimizer='adam', loss='categorical_crossentropy', metrics=['accuracy'])\n",
        "model.fit(X_labeled, y_labeled, epochs=10)\n",
        "\n",
        "# Step 3: Apply active learning iterations\n",
        "while len(X_unlabeled) > 0:\n",
        "    # Step 3.1: Use the current model to predict labels for the unlabeled data\n",
        "    predictions = model.predict(X_unlabeled)\n",
        "\n",
        "    # Step 3.2: Compute uncertainties based on prediction probabilities (e.g., using entropy)\n",
        "    uncertainties = -np.sum(predictions * np.log2(predictions), axis=1)\n",
        "\n",
        "    # Step 3.3: Select samples with highest uncertainty for labeling\n",
        "    selected_indices = np.argsort(uncertainties)[-num_samples:]\n",
        "    selected_samples = X_unlabeled[selected_indices]\n",
        "\n",
        "    # Step 3.4: Assign the selected samples to an oracle for labeling\n",
        "    labels = oracle_labeling(selected_samples)\n",
        "\n",
        "    # Step 3.5: Add the newly labeled samples to the labeled dataset\n",
        "    X_labeled = np.concatenate((X_labeled, selected_samples), axis=0)\n",
        "    y_labeled = np.concatenate((y_labeled, labels), axis=0)\n",
        "\n",
        "    # Step 3.6: Remove the newly labeled samples from the unlabeled dataset\n",
        "    X_unlabeled = np.delete(X_unlabeled, selected_indices, axis=0)\n",
        "\n",
        "    # Step 3.7: Retrain the model using the updated labeled dataset\n",
        "    model.fit(X_labeled, y_labeled, epochs=10)\n",
        "\n",
        "# Step 4: Evaluate the final model on a separate test set\n",
        "accuracy = accuracy_score(y_test, model.predict_classes(X_test))\n",
        "print(\"Final model accuracy:\", accuracy)"
      ]
    },
    {
      "cell_type": "code",
      "execution_count": null,
      "id": "2c86d6c5",
      "metadata": {
        "id": "2c86d6c5"
      },
      "outputs": [],
      "source": []
    }
  ],
  "metadata": {
    "kernelspec": {
      "display_name": "Python 3 (ipykernel)",
      "language": "python",
      "name": "python3"
    },
    "language_info": {
      "codemirror_mode": {
        "name": "ipython",
        "version": 3
      },
      "file_extension": ".py",
      "mimetype": "text/x-python",
      "name": "python",
      "nbconvert_exporter": "python",
      "pygments_lexer": "ipython3",
      "version": "3.11.4"
    },
    "colab": {
      "provenance": [],
      "include_colab_link": true
    }
  },
  "nbformat": 4,
  "nbformat_minor": 5
}